{
 "cells": [
  {
   "cell_type": "code",
   "execution_count": 1,
   "metadata": {},
   "outputs": [],
   "source": [
    "import torch\n",
    "import numpy as np\n",
    "import matplotlib.pyplot as plt"
   ]
  },
  {
   "cell_type": "code",
   "execution_count": 3,
   "metadata": {},
   "outputs": [],
   "source": [
    "from torch import nn\n",
    "import torch.nn.functional as F\n",
    "\n",
    "class Generator(nn.Module):\n",
    "    def __init__(self, input_size: int = 128, output_size: int = 512):\n",
    "        super().__init__()\n",
    "\n",
    "        seq = nn.Sequential(\n",
    "            nn.Linear(input_size, 256),\n",
    "            nn.ReLU(),\n",
    "            nn.Linear(256, output_size),\n",
    "            nn.Tanh()\n",
    "        )\n",
    "\n",
    "    def forward(self, input: torch.Tensor):\n",
    "        return self.seq(input)\n",
    "\n",
    "\n",
    "class Discriminator(nn.Module):\n",
    "    def __init__(self, input_size: int = 512):\n",
    "        super().__init__()\n",
    "\n",
    "        seq = nn.Sequential(\n",
    "            nn.Linear(input_size, 256),\n",
    "            nn.LeakyReLU(),\n",
    "            nn.Linear(256, 128),\n",
    "            nn.LeakyReLU(),\n",
    "            nn.Linear(128, 32),\n",
    "            nn.LeakyReLU(),\n",
    "            nn.Linear(32, 1),\n",
    "            nn.Sigmoid()\n",
    "        )\n",
    "\n",
    "    def forward(self, input: torch.Tensor):\n",
    "        return self.seq(input)"
   ]
  },
  {
   "cell_type": "code",
   "execution_count": 4,
   "metadata": {},
   "outputs": [],
   "source": [
    "class BiLSTMDifferentInputs(nn.Module):\n",
    "    def __init__(self, input_size_1: int = 512, input_size_2: int = 1):\n",
    "        lstm1 = nn.LSTM(input_size_1, 256)\n",
    "        lstm2 = nn.LSTM(input_size_2, 32)\n",
    "\n",
    "    "
   ]
  },
  {
   "cell_type": "code",
   "execution_count": null,
   "metadata": {},
   "outputs": [],
   "source": [
    "from torch.utils.data import Dataset\n",
    "\n",
    "class RandomDataGen(Dataset):\n",
    "    def __init__(self, input_size: int = 128, num_tensors = 512):\n",
    "        inputs = []\n",
    "        for i in range(num_tensors):\n",
    "            ten = torch.normal(0, torch.ones(1, input_size))\n",
    "            inputs.append(ten)\n",
    "\n",
    "        self.len = num_tensors\n",
    "\n",
    "        self.data = torch.stack(inputs, dim=0)\n",
    "\n",
    "    def __len__(self):\n",
    "        return self.len\n",
    "    \n",
    "    def __getitem__(self, idx: int):\n",
    "        return self.data[idx]"
   ]
  },
  {
   "cell_type": "code",
   "execution_count": null,
   "metadata": {},
   "outputs": [],
   "source": [
    "from torch.utils.data import DataLoader\n",
    "\n",
    "def get_gan_outputs():\n",
    "    G = Generator()\n",
    "    D = Discriminator()\n",
    "\n",
    "    dataset = RandomDataGen()\n",
    "    dl = DataLoader(dataset, batch_size=32, shuffle=True)\n",
    "\n",
    "    g_outputs = []\n",
    "    d_outputs = []\n",
    "\n",
    "    for step, x in enumerate(dl):\n",
    "        "
   ]
  }
 ],
 "metadata": {
  "kernelspec": {
   "display_name": "Python 3",
   "language": "python",
   "name": "python3"
  },
  "language_info": {
   "codemirror_mode": {
    "name": "ipython",
    "version": 3
   },
   "file_extension": ".py",
   "mimetype": "text/x-python",
   "name": "python",
   "nbconvert_exporter": "python",
   "pygments_lexer": "ipython3",
   "version": "3.8.10"
  },
  "orig_nbformat": 4
 },
 "nbformat": 4,
 "nbformat_minor": 2
}
