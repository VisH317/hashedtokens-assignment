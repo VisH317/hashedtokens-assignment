{
 "cells": [
  {
   "cell_type": "code",
   "execution_count": 1,
   "metadata": {},
   "outputs": [
    {
     "name": "stderr",
     "output_type": "stream",
     "text": [
      "/home/vish/.local/lib/python3.8/site-packages/tqdm/auto.py:21: TqdmWarning: IProgress not found. Please update jupyter and ipywidgets. See https://ipywidgets.readthedocs.io/en/stable/user_install.html\n",
      "  from .autonotebook import tqdm as notebook_tqdm\n"
     ]
    }
   ],
   "source": [
    "import torch\n",
    "import numpy as np\n",
    "import matplotlib.pyplot as plt"
   ]
  },
  {
   "cell_type": "code",
   "execution_count": 9,
   "metadata": {},
   "outputs": [],
   "source": [
    "from torch import nn\n",
    "import torch.nn.functional as F\n",
    "\n",
    "class Generator(nn.Module):\n",
    "    def __init__(self, input_size: int = 128, output_size: int = 512):\n",
    "        super().__init__()\n",
    "\n",
    "        self.seq = nn.Sequential(\n",
    "            nn.Linear(input_size, 256),\n",
    "            nn.ReLU(),\n",
    "            nn.Linear(256, output_size),\n",
    "            nn.Tanh()\n",
    "        )\n",
    "\n",
    "    def forward(self, input: torch.Tensor):\n",
    "        return self.seq(input)\n",
    "\n",
    "\n",
    "class Discriminator(nn.Module):\n",
    "    def __init__(self, input_size: int = 512):\n",
    "        super().__init__()\n",
    "\n",
    "        self.seq = nn.Sequential(\n",
    "            nn.Linear(input_size, 256),\n",
    "            nn.LeakyReLU(),\n",
    "            nn.Linear(256, 128),\n",
    "            nn.LeakyReLU(),\n",
    "            nn.Linear(128, 32),\n",
    "            nn.LeakyReLU(),\n",
    "            nn.Linear(32, 1),\n",
    "            nn.Sigmoid()\n",
    "        )\n",
    "\n",
    "    def forward(self, input: torch.Tensor):\n",
    "        return self.seq(input)"
   ]
  },
  {
   "cell_type": "code",
   "execution_count": 100,
   "metadata": {},
   "outputs": [],
   "source": [
    "class BiLSTMDifferentInputs(nn.Module):\n",
    "    def __init__(self, input_size_1: int = 512, input_size_2: int = 1):\n",
    "        super().__init__()\n",
    "        self.lstm1 = nn.LSTM(input_size_1, 256)\n",
    "        self.lstm2 = nn.LSTM(input_size_2, 32)\n",
    "\n",
    "\n",
    "    def forward(self, input_1: torch.Tensor, input_2: torch.Tensor):\n",
    "        out1 = self.lstm1(input_1)\n",
    "        out2 = self.lstm2(input_2)\n",
    "        out = []\n",
    "        for i in range(len(out1)):\n",
    "            print(out1[i].size())\n",
    "            print(hn.size())\n",
    "            t = torch.cat((out1[i], out2[len(out2)-i-1]), 0)\n",
    "            out.append(t)\n",
    "        return out"
   ]
  },
  {
   "cell_type": "code",
   "execution_count": 85,
   "metadata": {},
   "outputs": [],
   "source": [
    "from torch.utils.data import Dataset\n",
    "\n",
    "class RandomDataGen(Dataset):\n",
    "    def __init__(self, input_size: int = 128, num_tensors = 512):\n",
    "        inputs = []\n",
    "        for i in range(num_tensors):\n",
    "            ten = torch.normal(0, torch.ones(1, input_size))\n",
    "            inputs.append(ten)\n",
    "\n",
    "        self.len = num_tensors\n",
    "\n",
    "        self.data = torch.stack(inputs, dim=0)\n",
    "\n",
    "    def __len__(self):\n",
    "        return self.len\n",
    "    \n",
    "    def __getitem__(self, idx: int):\n",
    "        return self.data[idx]"
   ]
  },
  {
   "cell_type": "code",
   "execution_count": 98,
   "metadata": {},
   "outputs": [],
   "source": [
    "from torch.utils.data import DataLoader\n",
    "\n",
    "def get_gan_outputs():\n",
    "    G = Generator()\n",
    "    D = Discriminator()\n",
    "    LSTM = BiLSTMDifferentInputs()\n",
    "\n",
    "    dataset = RandomDataGen()\n",
    "    dl = DataLoader(dataset, batch_size=32, shuffle=True)\n",
    "\n",
    "    for step, x_list in enumerate(dl):\n",
    "        g_outputs = []\n",
    "        d_outputs = []\n",
    "\n",
    "        for x in x_list:\n",
    "            out = G(x)\n",
    "            g_outputs.append(out)\n",
    "            out = D(out)\n",
    "            d_outputs.append(out)\n",
    "            # print(out.squeeze().unsqueeze())\n",
    "        \n",
    "        d_outputs.reverse()\n",
    "        \n",
    "\n",
    "        g_outputs = torch.stack(g_outputs)\n",
    "        d_outputs = torch.stack(d_outputs)\n",
    "        print(d_outputs.size())\n",
    "\n",
    "        out = LSTM(g_outputs, d_outputs)\n",
    "\n",
    "        return out\n"
   ]
  },
  {
   "cell_type": "code",
   "execution_count": 99,
   "metadata": {},
   "outputs": [
    {
     "name": "stdout",
     "output_type": "stream",
     "text": [
      "torch.Size([32, 1, 1])\n",
      "torch.Size([32, 1, 256])\n",
      "torch.Size([1, 1, 1])\n"
     ]
    },
    {
     "ename": "IndexError",
     "evalue": "index 31 is out of bounds for dimension 0 with size 1",
     "output_type": "error",
     "traceback": [
      "\u001b[0;31m---------------------------------------------------------------------------\u001b[0m",
      "\u001b[0;31mIndexError\u001b[0m                                Traceback (most recent call last)",
      "Cell \u001b[0;32mIn[99], line 1\u001b[0m\n\u001b[0;32m----> 1\u001b[0m get_gan_outputs()\n",
      "Cell \u001b[0;32mIn[98], line 29\u001b[0m, in \u001b[0;36mget_gan_outputs\u001b[0;34m()\u001b[0m\n\u001b[1;32m     26\u001b[0m d_outputs \u001b[39m=\u001b[39m torch\u001b[39m.\u001b[39mstack(d_outputs)\n\u001b[1;32m     27\u001b[0m \u001b[39mprint\u001b[39m(d_outputs\u001b[39m.\u001b[39msize())\n\u001b[0;32m---> 29\u001b[0m out \u001b[39m=\u001b[39m LSTM(g_outputs, d_outputs)\n\u001b[1;32m     31\u001b[0m \u001b[39mreturn\u001b[39;00m out\n",
      "File \u001b[0;32m~/.local/lib/python3.8/site-packages/torch/nn/modules/module.py:1051\u001b[0m, in \u001b[0;36mModule._call_impl\u001b[0;34m(self, *input, **kwargs)\u001b[0m\n\u001b[1;32m   1047\u001b[0m \u001b[39m# If we don't have any hooks, we want to skip the rest of the logic in\u001b[39;00m\n\u001b[1;32m   1048\u001b[0m \u001b[39m# this function, and just call forward.\u001b[39;00m\n\u001b[1;32m   1049\u001b[0m \u001b[39mif\u001b[39;00m \u001b[39mnot\u001b[39;00m (\u001b[39mself\u001b[39m\u001b[39m.\u001b[39m_backward_hooks \u001b[39mor\u001b[39;00m \u001b[39mself\u001b[39m\u001b[39m.\u001b[39m_forward_hooks \u001b[39mor\u001b[39;00m \u001b[39mself\u001b[39m\u001b[39m.\u001b[39m_forward_pre_hooks \u001b[39mor\u001b[39;00m _global_backward_hooks\n\u001b[1;32m   1050\u001b[0m         \u001b[39mor\u001b[39;00m _global_forward_hooks \u001b[39mor\u001b[39;00m _global_forward_pre_hooks):\n\u001b[0;32m-> 1051\u001b[0m     \u001b[39mreturn\u001b[39;00m forward_call(\u001b[39m*\u001b[39;49m\u001b[39minput\u001b[39;49m, \u001b[39m*\u001b[39;49m\u001b[39m*\u001b[39;49mkwargs)\n\u001b[1;32m   1052\u001b[0m \u001b[39m# Do not call functions when jit is used\u001b[39;00m\n\u001b[1;32m   1053\u001b[0m full_backward_hooks, non_full_backward_hooks \u001b[39m=\u001b[39m [], []\n",
      "Cell \u001b[0;32mIn[84], line 15\u001b[0m, in \u001b[0;36mBiLSTMDifferentInputs.forward\u001b[0;34m(self, input_1, input_2)\u001b[0m\n\u001b[1;32m     13\u001b[0m     \u001b[39mprint\u001b[39m(out1[i]\u001b[39m.\u001b[39msize())\n\u001b[1;32m     14\u001b[0m     \u001b[39mprint\u001b[39m(hn\u001b[39m.\u001b[39msize())\n\u001b[0;32m---> 15\u001b[0m     t \u001b[39m=\u001b[39m torch\u001b[39m.\u001b[39mcat((out1[i], hn[\u001b[39mlen\u001b[39;49m(out2)\u001b[39m-\u001b[39;49mi\u001b[39m-\u001b[39;49m\u001b[39m1\u001b[39;49m]), \u001b[39m0\u001b[39m)\n\u001b[1;32m     16\u001b[0m     out\u001b[39m.\u001b[39mappend(t)\n\u001b[1;32m     17\u001b[0m \u001b[39mreturn\u001b[39;00m out\n",
      "\u001b[0;31mIndexError\u001b[0m: index 31 is out of bounds for dimension 0 with size 1"
     ]
    }
   ],
   "source": [
    "get_gan_outputs()"
   ]
  },
  {
   "cell_type": "code",
   "execution_count": null,
   "metadata": {},
   "outputs": [],
   "source": []
  }
 ],
 "metadata": {
  "kernelspec": {
   "display_name": "Python 3",
   "language": "python",
   "name": "python3"
  },
  "language_info": {
   "codemirror_mode": {
    "name": "ipython",
    "version": 3
   },
   "file_extension": ".py",
   "mimetype": "text/x-python",
   "name": "python",
   "nbconvert_exporter": "python",
   "pygments_lexer": "ipython3",
   "version": "3.8.10"
  },
  "orig_nbformat": 4
 },
 "nbformat": 4,
 "nbformat_minor": 2
}
