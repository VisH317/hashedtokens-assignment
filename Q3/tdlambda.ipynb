{
 "cells": [
  {
   "cell_type": "code",
   "execution_count": 4,
   "metadata": {},
   "outputs": [],
   "source": [
    "import torch\n",
    "import numpy as np\n",
    "import matplotlib.pyplot as plt\n",
    "import gymnasium as gym"
   ]
  },
  {
   "cell_type": "code",
   "execution_count": 8,
   "metadata": {},
   "outputs": [],
   "source": [
    "env = gym.make(\"MountainCar-v0\")"
   ]
  },
  {
   "cell_type": "code",
   "execution_count": 37,
   "metadata": {},
   "outputs": [],
   "source": [
    "from torch import nn\n",
    "import torch.nn.functional as F\n",
    "from gymnasium import spaces\n",
    "import numpy as np\n",
    "from tqdm import tqdm\n",
    "\n",
    "class TDLambda(nn.Module):\n",
    "    def __init__(self, env, lam: float = 0.9, discount: float = 0.95, alpha: float = 0.05, action_size = 3, observation_size = 2):\n",
    "        self.lam = lam\n",
    "        self.discount = discount\n",
    "        self.alpha = alpha\n",
    "\n",
    "        # environment specific vars\n",
    "        self.action_space = spaces.Discrete(action_size)\n",
    "        self.action_size = action_size\n",
    "        self.observation_size = observation_size\n",
    "        \n",
    "        self.env = env\n",
    "\n",
    "        # metrics \n",
    "        self.actions = []\n",
    "        self.rewards = []\n",
    "        self.observations = []\n",
    "\n",
    "        self.E = {}\n",
    "        self.V = {}\n",
    "\n",
    "    def train(self, total_steps: int = 5000):\n",
    "\n",
    "        self.initialize_values_and_traces()\n",
    "        obs = env.reset()\n",
    "        print(\"first obs: \", obs)\n",
    "        self.observations.append(obs)\n",
    "        # self.rewards.append(rew)\n",
    "\n",
    "        action = None\n",
    "\n",
    "        for step in tqdm(range(total_steps), desc=\"training td-lambda\"):\n",
    "            action = self.policy()\n",
    "            prevobs = obs\n",
    "            obs, rew, done, trunc, info = env.step(action)\n",
    "            print(\"obs: \", obs)\n",
    "            td = rew + self.discount * self.value(obs) - self.value(prevobs)\n",
    "            self.eligibility_trace(prevobs)\n",
    "\n",
    "            for s in self.V.keys():\n",
    "                self.V[s] = self.V[s] + self.alpha * td * self.E[s]\n",
    "                self.E[s] = self.discount * self.lam * self.E[s]\n",
    "\n",
    "            self.observations.append(obs)\n",
    "            self.rewards.append(rew)\n",
    "            self.actions.append(action)\n",
    "\n",
    "            if done or trunc:\n",
    "                self.reset_traces()\n",
    "                obs = env.reset()\n",
    "                self.observations.append(obs)\n",
    "\n",
    "\n",
    "    def initialize_values_and_traces(self):\n",
    "        for i in np.linspace(-1.2, 0.6, 19, dtype=np.float32):\n",
    "            for j in np.linspace(-0.07, 0.07, 15, dtype=np.float32):\n",
    "                if i>=0.5: \n",
    "                    self.V[(i, j)] = 0\n",
    "                    self.E[(i, j)] = 0\n",
    "                    continue\n",
    "                self.V[(i, j)] = np.random.random_sample()\n",
    "                self.E[(i, j)] = 0\n",
    "    \n",
    "    def reset_traces(self):\n",
    "        for i in np.linspace(-1.2, 0.6, 19, dtype=np.float32):\n",
    "            for j in np.linspace(-0.07, 0.07, 15, dtype=np.float32):\n",
    "                if i>=0.5: \n",
    "                    self.E[(i, j)] = 0\n",
    "                    continue\n",
    "                self.E[(i, j)] = 0\n",
    "\n",
    "    def eligibility_trace(self, state):\n",
    "        pos = np.round(state[0], 1)\n",
    "        vel = np.round(state[1], 2)\n",
    "        value = (pos, vel)\n",
    "        self.E[value] += 1\n",
    "        return self.E[value]\n",
    "\n",
    "    def value(self, state):\n",
    "        pos = np.round(state[0], 1)\n",
    "        print(\"state: \", state[1], \", \", type(state[1]))\n",
    "        vel = np.round(state[1], 2)\n",
    "        value = (pos, vel)\n",
    "        return self.V[value]\n",
    "\n",
    "    def policy(self):\n",
    "        return self.action_space.sample()"
   ]
  },
  {
   "cell_type": "code",
   "execution_count": 38,
   "metadata": {},
   "outputs": [
    {
     "name": "stdout",
     "output_type": "stream",
     "text": [
      "first obs:  (array([-0.4989194,  0.       ], dtype=float32), {})\n"
     ]
    },
    {
     "name": "stderr",
     "output_type": "stream",
     "text": [
      "training td-lambda:   0%|          | 0/5000 [00:00<?, ?it/s]"
     ]
    },
    {
     "name": "stdout",
     "output_type": "stream",
     "text": [
      "obs:  [-0.49810433  0.00081507]\n",
      "state:  0.0008150737 ,  <class 'numpy.float32'>\n",
      "state:  {} ,  <class 'dict'>\n"
     ]
    },
    {
     "name": "stderr",
     "output_type": "stream",
     "text": [
      "\n"
     ]
    },
    {
     "ename": "TypeError",
     "evalue": "unsupported operand type(s) for *: 'dict' and 'float'",
     "output_type": "error",
     "traceback": [
      "\u001b[0;31m---------------------------------------------------------------------------\u001b[0m",
      "\u001b[0;31mTypeError\u001b[0m                                 Traceback (most recent call last)",
      "Cell \u001b[0;32mIn[38], line 2\u001b[0m\n\u001b[1;32m      1\u001b[0m model \u001b[39m=\u001b[39m TDLambda(env)\n\u001b[0;32m----> 2\u001b[0m model\u001b[39m.\u001b[39;49mtrain()\n",
      "Cell \u001b[0;32mIn[37], line 43\u001b[0m, in \u001b[0;36mTDLambda.train\u001b[0;34m(self, total_steps)\u001b[0m\n\u001b[1;32m     41\u001b[0m obs, rew, done, trunc, info \u001b[39m=\u001b[39m env\u001b[39m.\u001b[39mstep(action)\n\u001b[1;32m     42\u001b[0m \u001b[39mprint\u001b[39m(\u001b[39m\"\u001b[39m\u001b[39mobs: \u001b[39m\u001b[39m\"\u001b[39m, obs)\n\u001b[0;32m---> 43\u001b[0m td \u001b[39m=\u001b[39m rew \u001b[39m+\u001b[39m \u001b[39mself\u001b[39m\u001b[39m.\u001b[39mdiscount \u001b[39m*\u001b[39m \u001b[39mself\u001b[39m\u001b[39m.\u001b[39mvalue(obs) \u001b[39m-\u001b[39m \u001b[39mself\u001b[39;49m\u001b[39m.\u001b[39;49mvalue(prevobs)\n\u001b[1;32m     44\u001b[0m \u001b[39mself\u001b[39m\u001b[39m.\u001b[39meligibility_trace(prevobs)\n\u001b[1;32m     46\u001b[0m \u001b[39mfor\u001b[39;00m s \u001b[39min\u001b[39;00m \u001b[39mself\u001b[39m\u001b[39m.\u001b[39mV\u001b[39m.\u001b[39mkeys():\n",
      "Cell \u001b[0;32mIn[37], line 88\u001b[0m, in \u001b[0;36mTDLambda.value\u001b[0;34m(self, state)\u001b[0m\n\u001b[1;32m     86\u001b[0m pos \u001b[39m=\u001b[39m np\u001b[39m.\u001b[39mround(state[\u001b[39m0\u001b[39m], \u001b[39m1\u001b[39m)\n\u001b[1;32m     87\u001b[0m \u001b[39mprint\u001b[39m(\u001b[39m\"\u001b[39m\u001b[39mstate: \u001b[39m\u001b[39m\"\u001b[39m, state[\u001b[39m1\u001b[39m], \u001b[39m\"\u001b[39m\u001b[39m, \u001b[39m\u001b[39m\"\u001b[39m, \u001b[39mtype\u001b[39m(state[\u001b[39m1\u001b[39m]))\n\u001b[0;32m---> 88\u001b[0m vel \u001b[39m=\u001b[39m np\u001b[39m.\u001b[39;49mround(state[\u001b[39m1\u001b[39;49m], \u001b[39m2\u001b[39;49m)\n\u001b[1;32m     89\u001b[0m value \u001b[39m=\u001b[39m (pos, vel)\n\u001b[1;32m     90\u001b[0m \u001b[39mreturn\u001b[39;00m \u001b[39mself\u001b[39m\u001b[39m.\u001b[39mV[value]\n",
      "File \u001b[0;32m<__array_function__ internals>:200\u001b[0m, in \u001b[0;36mround_\u001b[0;34m(*args, **kwargs)\u001b[0m\n",
      "File \u001b[0;32m~/.local/lib/python3.8/site-packages/numpy/core/fromnumeric.py:3763\u001b[0m, in \u001b[0;36mround_\u001b[0;34m(a, decimals, out)\u001b[0m\n\u001b[1;32m   3754\u001b[0m \u001b[39m@array_function_dispatch\u001b[39m(_around_dispatcher)\n\u001b[1;32m   3755\u001b[0m \u001b[39mdef\u001b[39;00m \u001b[39mround_\u001b[39m(a, decimals\u001b[39m=\u001b[39m\u001b[39m0\u001b[39m, out\u001b[39m=\u001b[39m\u001b[39mNone\u001b[39;00m):\n\u001b[1;32m   3756\u001b[0m \u001b[39m    \u001b[39m\u001b[39m\"\"\"\u001b[39;00m\n\u001b[1;32m   3757\u001b[0m \u001b[39m    Round an array to the given number of decimals.\u001b[39;00m\n\u001b[1;32m   3758\u001b[0m \n\u001b[0;32m   (...)\u001b[0m\n\u001b[1;32m   3761\u001b[0m \u001b[39m    around : equivalent function; see for details.\u001b[39;00m\n\u001b[1;32m   3762\u001b[0m \u001b[39m    \"\"\"\u001b[39;00m\n\u001b[0;32m-> 3763\u001b[0m     \u001b[39mreturn\u001b[39;00m around(a, decimals\u001b[39m=\u001b[39;49mdecimals, out\u001b[39m=\u001b[39;49mout)\n",
      "File \u001b[0;32m<__array_function__ internals>:200\u001b[0m, in \u001b[0;36maround\u001b[0;34m(*args, **kwargs)\u001b[0m\n",
      "File \u001b[0;32m~/.local/lib/python3.8/site-packages/numpy/core/fromnumeric.py:3337\u001b[0m, in \u001b[0;36maround\u001b[0;34m(a, decimals, out)\u001b[0m\n\u001b[1;32m   3245\u001b[0m \u001b[39m@array_function_dispatch\u001b[39m(_around_dispatcher)\n\u001b[1;32m   3246\u001b[0m \u001b[39mdef\u001b[39;00m \u001b[39maround\u001b[39m(a, decimals\u001b[39m=\u001b[39m\u001b[39m0\u001b[39m, out\u001b[39m=\u001b[39m\u001b[39mNone\u001b[39;00m):\n\u001b[1;32m   3247\u001b[0m \u001b[39m    \u001b[39m\u001b[39m\"\"\"\u001b[39;00m\n\u001b[1;32m   3248\u001b[0m \u001b[39m    Evenly round to the given number of decimals.\u001b[39;00m\n\u001b[1;32m   3249\u001b[0m \n\u001b[0;32m   (...)\u001b[0m\n\u001b[1;32m   3335\u001b[0m \n\u001b[1;32m   3336\u001b[0m \u001b[39m    \"\"\"\u001b[39;00m\n\u001b[0;32m-> 3337\u001b[0m     \u001b[39mreturn\u001b[39;00m _wrapfunc(a, \u001b[39m'\u001b[39;49m\u001b[39mround\u001b[39;49m\u001b[39m'\u001b[39;49m, decimals\u001b[39m=\u001b[39;49mdecimals, out\u001b[39m=\u001b[39;49mout)\n",
      "File \u001b[0;32m~/.local/lib/python3.8/site-packages/numpy/core/fromnumeric.py:54\u001b[0m, in \u001b[0;36m_wrapfunc\u001b[0;34m(obj, method, *args, **kwds)\u001b[0m\n\u001b[1;32m     52\u001b[0m bound \u001b[39m=\u001b[39m \u001b[39mgetattr\u001b[39m(obj, method, \u001b[39mNone\u001b[39;00m)\n\u001b[1;32m     53\u001b[0m \u001b[39mif\u001b[39;00m bound \u001b[39mis\u001b[39;00m \u001b[39mNone\u001b[39;00m:\n\u001b[0;32m---> 54\u001b[0m     \u001b[39mreturn\u001b[39;00m _wrapit(obj, method, \u001b[39m*\u001b[39;49margs, \u001b[39m*\u001b[39;49m\u001b[39m*\u001b[39;49mkwds)\n\u001b[1;32m     56\u001b[0m \u001b[39mtry\u001b[39;00m:\n\u001b[1;32m     57\u001b[0m     \u001b[39mreturn\u001b[39;00m bound(\u001b[39m*\u001b[39margs, \u001b[39m*\u001b[39m\u001b[39m*\u001b[39mkwds)\n",
      "File \u001b[0;32m~/.local/lib/python3.8/site-packages/numpy/core/fromnumeric.py:43\u001b[0m, in \u001b[0;36m_wrapit\u001b[0;34m(obj, method, *args, **kwds)\u001b[0m\n\u001b[1;32m     41\u001b[0m \u001b[39mexcept\u001b[39;00m \u001b[39mAttributeError\u001b[39;00m:\n\u001b[1;32m     42\u001b[0m     wrap \u001b[39m=\u001b[39m \u001b[39mNone\u001b[39;00m\n\u001b[0;32m---> 43\u001b[0m result \u001b[39m=\u001b[39m \u001b[39mgetattr\u001b[39;49m(asarray(obj), method)(\u001b[39m*\u001b[39;49margs, \u001b[39m*\u001b[39;49m\u001b[39m*\u001b[39;49mkwds)\n\u001b[1;32m     44\u001b[0m \u001b[39mif\u001b[39;00m wrap:\n\u001b[1;32m     45\u001b[0m     \u001b[39mif\u001b[39;00m \u001b[39mnot\u001b[39;00m \u001b[39misinstance\u001b[39m(result, mu\u001b[39m.\u001b[39mndarray):\n",
      "\u001b[0;31mTypeError\u001b[0m: unsupported operand type(s) for *: 'dict' and 'float'"
     ]
    }
   ],
   "source": [
    "model = TDLambda(env)\n",
    "model.train()"
   ]
  },
  {
   "cell_type": "code",
   "execution_count": null,
   "metadata": {},
   "outputs": [],
   "source": []
  }
 ],
 "metadata": {
  "kernelspec": {
   "display_name": "Python 3",
   "language": "python",
   "name": "python3"
  },
  "language_info": {
   "codemirror_mode": {
    "name": "ipython",
    "version": 3
   },
   "file_extension": ".py",
   "mimetype": "text/x-python",
   "name": "python",
   "nbconvert_exporter": "python",
   "pygments_lexer": "ipython3",
   "version": "3.8.10"
  },
  "orig_nbformat": 4
 },
 "nbformat": 4,
 "nbformat_minor": 2
}
