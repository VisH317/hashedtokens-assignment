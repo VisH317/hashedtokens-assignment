{
 "cells": [
  {
   "cell_type": "code",
   "execution_count": 1,
   "metadata": {},
   "outputs": [],
   "source": [
    "import torch\n",
    "import numpy as np\n",
    "import matplotlib.pyplot as plt\n",
    "import gymnasium as gym"
   ]
  },
  {
   "cell_type": "code",
   "execution_count": null,
   "metadata": {},
   "outputs": [],
   "source": [
    "env = gym.make(\"MountainCar-v0\", domain_randomize=True)"
   ]
  },
  {
   "cell_type": "code",
   "execution_count": null,
   "metadata": {},
   "outputs": [],
   "source": [
    "def run_env(action: int):\n",
    "    "
   ]
  },
  {
   "cell_type": "code",
   "execution_count": null,
   "metadata": {},
   "outputs": [],
   "source": [
    "from torch import nn\n",
    "import torch.nn.functional as F\n",
    "from gymnasium import spaces\n",
    "\n",
    "class TDLambda(nn.Module):\n",
    "    def __init__(self, lam: float = 0.9, discount: float = 0.95, alpha: float = 0.05, action_size = 3, observation_size = 2):\n",
    "        self.lam = lam\n",
    "        self.discount = discount\n",
    "        self.alpha = alpha\n",
    "\n",
    "        # environment specific vars\n",
    "        self.action_space = spaces.Discrete(action_size)\n",
    "        self.action_size = action_size\n",
    "        self.observation_size = observation_size\n",
    "        \n",
    "        self.env = env\n",
    "\n",
    "        # metrics \n",
    "        self.actions = []\n",
    "        self.rewards = []\n",
    "        self.observations = []\n",
    "\n",
    "        self.E = {}\n",
    "        self.V = {}\n",
    "\n",
    "    def train(self, total_steps: int = 5000):\n",
    "\n",
    "        obs, rew = env.reset()\n",
    "        self.observations.append(obs)\n",
    "        self.rewards.append(rew)\n",
    "\n",
    "        action = None\n",
    "\n",
    "        for step in range(total_steps):\n",
    "\n",
    "    def choose_action(self, )\n",
    "        "
   ]
  }
 ],
 "metadata": {
  "kernelspec": {
   "display_name": "Python 3",
   "language": "python",
   "name": "python3"
  },
  "language_info": {
   "codemirror_mode": {
    "name": "ipython",
    "version": 3
   },
   "file_extension": ".py",
   "mimetype": "text/x-python",
   "name": "python",
   "nbconvert_exporter": "python",
   "pygments_lexer": "ipython3",
   "version": "3.8.10"
  },
  "orig_nbformat": 4
 },
 "nbformat": 4,
 "nbformat_minor": 2
}
